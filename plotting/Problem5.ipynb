{
 "cells": [
  {
   "cell_type": "code",
   "execution_count": 69,
   "metadata": {},
   "outputs": [],
   "source": [
    "# !python\n",
    "# -*- coding: utf-8 -*\n",
    "\n",
    "__author__ = 'Erling Ween Eriksen'\n",
    "__email__ = 'erlinge@nmbu.no'\n",
    "\n",
    "import pandas as pd\n",
    "import matplotlib.pyplot as plt\n",
    "import numpy as np\n",
    "import matplotlib.gridspec as gridspec\n",
    "\n",
    "ME51 = pd.read_csv(r'ME_5_10_rand20.csv', names=['M', 'E'])\n",
    "ME52 = pd.read_csv(r'ME_5_24_rand20.csv', names=['M', 'E'])\n",
    "ME53 = pd.read_csv(r'ME_5_10_ord20.csv', names=['M', 'E'])\n",
    "ME54 = pd.read_csv(r'ME_5_24_ord20.csv', names=['M', 'E'])\n",
    "\n",
    "names= [ME51, ME52, ME53, ME54]\n",
    "kb = 1.38 * 10 ** (-23)\n",
    "titles = ['random T=1', 'random T=2.4', 'ordered T=1', 'ordered T=2.4']\n",
    "labels = ['rand_1', 'rand_24', 'ord_1', 'ord_24']\n",
    "Ts = [1 / kb, 2.4 / kb, 1 / kb, 2.4 / kb]\n"
   ]
  },
  {
   "cell_type": "code",
   "execution_count": 150,
   "metadata": {
    "scrolled": true
   },
   "outputs": [],
   "source": [
    "es = {}\n",
    "ms = {}\n",
    "\n",
    "for name, label, T in zip(names, labels, Ts):\n",
    "    #print(name,)\n",
    "\n",
    "    n_iter = len(name.index)\n",
    "    plot_n = n_iter\n",
    "    N_spins = 400\n",
    "    burnin = 0\n",
    "    plot_range = np.arange(burnin, plot_n)\n",
    "    div_range = np.arange(0, plot_n-burnin)\n",
    "    \n",
    "    E = name.E.values[plot_range]\n",
    "    M = name.M.values[plot_range]\n",
    "    E_exp = np.cumsum(E) / (div_range +1)\n",
    "    M_exp = np.cumsum(M) /(div_range +1)\n",
    "    \n",
    "    es[label] = E_exp/N_spins\n",
    "    ms[label] = M_exp/N_spins\n",
    "    \n",
    "es = pd.DataFrame(es)\n",
    "ms = pd.DataFrame(ms)\n"
   ]
  },
  {
   "cell_type": "code",
   "execution_count": 151,
   "metadata": {},
   "outputs": [
    {
     "data": {
      "image/png": "[encoded data removed]",
      "text/plain": [
       "<Figure size 468x360 with 2 Axes>"
      ]
     },
     "metadata": {
      "needs_background": "light"
     },
     "output_type": "display_data"
    }
   ],
   "source": [
    "fig = plt.figure(figsize = (5,10))\n",
    "gs1 = gridspec.GridSpec(1, 2)\n",
    "gs1.update(wspace=0.0, hspace=0.00) # set the spacing between axes. \n",
    "\n",
    "#axs = plt.subplots(gs1[0],gs1[1], sharey=False)\n",
    "\n",
    "axs = [plt.subplot(gs1[0]), plt.subplot(gs1[1])]\n",
    "\n",
    "fig.set_figheight(5)\n",
    "fig.set_figwidth(6.5)\n",
    "\n",
    "\n",
    "axs[0].plot(es.index,es.rand_1, color='tab:red', alpha=0.8, linestyle='solid', label ='random')\n",
    "axs[0].plot(es.index,es.ord_1, color='teal', alpha=0.8, linestyle='solid', label ='ordered')\n",
    "\n",
    "axs[1].plot(es.index,es.rand_24, color='tab:red', alpha=0.8, linestyle='solid', label =' random')\n",
    "axs[1].plot(es.index,es.ord_24, color='teal', alpha=0.8, linestyle='solid', label =' ordered')\n",
    "\n",
    "mean0 = -1.99715\n",
    "axs[0].plot([mean0 for _ in es.index], color='black', alpha=0.8, linestyle='dashed')\n",
    "\n",
    "mean1 = -1.238\n",
    "axs[1].plot([mean1 for _ in es.index], color='black', alpha=0.8, linestyle='dashed')\n",
    "\n",
    "axs[0].set_xlabel(r'$Cycles \\longleftarrow $')\n",
    "axs[1].set_xlabel(r'$\\longrightarrow Cycles $')\n",
    "\n",
    "axs[0].set_ylim(-1.9977, -1.9966)\n",
    "axs[1].set_ylim(-1.26, -1.215)\n",
    "    \n",
    "axs[0].set_yscale('linear')\n",
    "axs[1].set_yscale('linear')\n",
    "\n",
    "axs[1].yaxis.tick_right()\n",
    "#axs[1].yaxis.label_right()\n",
    "\n",
    "axs[0].set_xticklabels([])\n",
    "axs[1].set_xticklabels([])\n",
    "\n",
    "axs[0].set_yticks([-1.9977, -1.9966])\n",
    "axs[1].set_yticks([-1.26,-1.215])\n",
    "\n",
    "axs[0].set_xticks([])\n",
    "axs[1].set_xticks([])\n",
    "\n",
    "\n",
    "axs[0].set_xlim(1.10e6,-0.1e6)\n",
    "axs[1].set_xlim(-0.1e6, 1.10e6)\n",
    "    \n",
    "axs[0].legend(loc='lower left')\n",
    "axs[1].legend(loc='lower right')\n",
    "\n",
    "\n",
    "\n",
    "font = {'family' : 'DejaVu Sans',\n",
    "        'weight' : 'normal',\n",
    "        'size'   : 15}\n",
    "plt.rc('font', **font)\n",
    "#plt.rc('legend',fontsize=12)\n",
    "plt.rc('legend', fontsize=13)\n",
    "\n",
    "\n",
    "axs[0].text(0.4, 0.8, 'T = 1.0', horizontalalignment='center', verticalalignment='center', transform=axs[0].transAxes)\n",
    "axs[1].text(0.6, 0.8, 'T = 2.4', horizontalalignment='center', verticalalignment='center', transform=axs[1].transAxes)\n",
    "\n",
    "axs[0].text(-0.1, 0.5, r'$\\langle \\epsilon \\rangle$', size= 18, horizontalalignment='center', verticalalignment='center', transform=axs[0].transAxes)\n",
    "axs[1].text(1.1, 0.5, r'$\\langle \\epsilon \\rangle$', size= 18, horizontalalignment='center', verticalalignment='center', transform=axs[1].transAxes)\n",
    "\n",
    "\n",
    "axs[0].set_facecolor((0.98, 0.98, 0.98))\n",
    "axs[1].set_facecolor((0.98, 0.98, 0.98))\n",
    "plt.tight_layout()\n",
    "plt.savefig('prob5_e.pdf')\n",
    "plt.show()"
   ]
  },
  {
   "cell_type": "code",
   "execution_count": null,
   "metadata": {},
   "outputs": [],
   "source": []
  },
  {
   "cell_type": "code",
   "execution_count": null,
   "metadata": {},
   "outputs": [],
   "source": []
  }
 ],
 "metadata": {
  "kernelspec": {
   "display_name": "Python 3",
   "language": "python",
   "name": "python3"
  },
  "language_info": {
   "codemirror_mode": {
    "name": "ipython",
    "version": 3
   },
   "file_extension": ".py",
   "mimetype": "text/x-python",
   "name": "python",
   "nbconvert_exporter": "python",
   "pygments_lexer": "ipython3",
   "version": "3.7.9"
  }
 },
 "nbformat": 4,
 "nbformat_minor": 4
}
